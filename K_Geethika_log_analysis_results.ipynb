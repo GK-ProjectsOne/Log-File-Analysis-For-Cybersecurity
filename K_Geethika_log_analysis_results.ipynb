{
  "nbformat": 4,
  "nbformat_minor": 0,
  "metadata": {
    "colab": {
      "provenance": []
    },
    "kernelspec": {
      "name": "python3",
      "display_name": "Python 3"
    },
    "language_info": {
      "name": "python"
    }
  },
  "cells": [
    {
      "cell_type": "code",
      "execution_count": null,
      "metadata": {
        "colab": {
          "base_uri": "https://localhost:8080/"
        },
        "id": "uVialYK8N-gA",
        "outputId": "96878148-1ea5-471b-83e0-242fb8cdc6dd"
      },
      "outputs": [
        {
          "output_type": "stream",
          "name": "stdout",
          "text": [
            "Requirement already satisfied: pandas in /usr/local/lib/python3.10/dist-packages (2.2.2)\n",
            "Requirement already satisfied: numpy>=1.22.4 in /usr/local/lib/python3.10/dist-packages (from pandas) (1.26.4)\n",
            "Requirement already satisfied: python-dateutil>=2.8.2 in /usr/local/lib/python3.10/dist-packages (from pandas) (2.8.2)\n",
            "Requirement already satisfied: pytz>=2020.1 in /usr/local/lib/python3.10/dist-packages (from pandas) (2024.2)\n",
            "Requirement already satisfied: tzdata>=2022.7 in /usr/local/lib/python3.10/dist-packages (from pandas) (2024.2)\n",
            "Requirement already satisfied: six>=1.5 in /usr/local/lib/python3.10/dist-packages (from python-dateutil>=2.8.2->pandas) (1.16.0)\n"
          ]
        }
      ],
      "source": [
        "!pip install pandas"
      ]
    },
    {
      "cell_type": "markdown",
      "source": [
        "**File Handling** - Parsing the ssaved file and converting it into a dataframe\n"
      ],
      "metadata": {
        "id": "ZdCQBW26RmOT"
      }
    },
    {
      "cell_type": "code",
      "source": [
        "import pandas as pd\n",
        "\n",
        "log = '/content/drive/MyDrive/VRV/sample.log.txt' #file path of the sample.log\n",
        "\n",
        "log_data = [] #initializing an empty list\n",
        "\n",
        "with open(log, 'r') as file:  #opening the file in the read mode\n",
        "    for line in file:\n",
        "        parts = line.strip().split(' ') #splitting each line into parts using spaces\n",
        "\n",
        "        ip = parts[0]  #index 0 indicates the first part that corresponds to the IP address\n",
        "        timestamp = line[line.find(\"[\") + 1:line.find(\"]\")] #finding the substring between the [] that corresponds to timestamp\n",
        "        request = \" \".join(parts[5:8]).strip('\"') #conctenating the methid, url, protocol data at present in between 6th to 8th parts\n",
        "        statuscode = int(parts[8]) #datatype conversion as status code is a numerical data\n",
        "        size = int(parts[9]) #datatype conversion of size at the 9th index\n",
        "        message = \" \".join(parts[10:]).strip() if len(parts) > 10 else None #concatenating the remaing part\n",
        "\n",
        "\n",
        "#appending all the extracted data to the list as dictionary\n",
        "        log_data.append({\n",
        "            \"IP\" : ip,\n",
        "            \"Timestamp\" : timestamp,\n",
        "            \"Request\" : request,\n",
        "            \"Status Code\" : statuscode,\n",
        "            \"Size\" : size,\n",
        "            \"Message\" : message\n",
        "        })\n",
        "\n",
        "#creating a dataframe\n",
        "df = pd.DataFrame(log_data)\n",
        "\n",
        "#displays the first five data of the created data frame. Here, this is used to verify if the parsing is done properly and the dataframe is constructed as per requirement.\n",
        "print(df.head())"
      ],
      "metadata": {
        "colab": {
          "base_uri": "https://localhost:8080/"
        },
        "id": "Ws-FgRK1OKpL",
        "outputId": "eee677c1-9c79-49e5-aa20-abac71ddd1e6"
      },
      "execution_count": null,
      "outputs": [
        {
          "output_type": "stream",
          "name": "stdout",
          "text": [
            "              IP                   Timestamp                  Request  \\\n",
            "0    192.168.1.1  03/Dec/2024:10:12:34 +0000       GET /home HTTP/1.1   \n",
            "1    203.0.113.5  03/Dec/2024:10:12:35 +0000     POST /login HTTP/1.1   \n",
            "2       10.0.0.2  03/Dec/2024:10:12:36 +0000      GET /about HTTP/1.1   \n",
            "3    192.168.1.1  03/Dec/2024:10:12:37 +0000    GET /contact HTTP/1.1   \n",
            "4  198.51.100.23  03/Dec/2024:10:12:38 +0000  POST /register HTTP/1.1   \n",
            "\n",
            "   Status Code  Size                Message  \n",
            "0          200   512                   None  \n",
            "1          401   128  \"Invalid credentials\"  \n",
            "2          200   256                   None  \n",
            "3          200   312                   None  \n",
            "4          200   128                   None  \n"
          ]
        }
      ]
    },
    {
      "cell_type": "markdown",
      "source": [
        "**Number of requests made by each IP address, Sort and display the results in descending order of request counts**\n",
        "\n",
        "\n"
      ],
      "metadata": {
        "id": "O0nk8HE8R0kW"
      }
    },
    {
      "cell_type": "code",
      "source": [
        "df_requestcounts = df.groupby('IP')['Request'].count().reset_index(name = 'Request Count') #grouping the similar IP adresses together and getting the count of request made by each group\n",
        "print((df_requestcounts.sort_values(by = 'Request Count', ascending=False)).to_string(index = False)) #sorting the ouput in descending order"
      ],
      "metadata": {
        "colab": {
          "base_uri": "https://localhost:8080/"
        },
        "id": "jIQA9ycbPJ7D",
        "outputId": "b614a25c-f7d9-49a2-d5e9-8328570b5f5d"
      },
      "execution_count": null,
      "outputs": [
        {
          "output_type": "stream",
          "name": "stdout",
          "text": [
            "           IP  Request Count\n",
            "198.51.100.23              8\n",
            "  203.0.113.5              8\n",
            "  192.168.1.1              7\n",
            "     10.0.0.2              6\n",
            "192.168.1.100              5\n"
          ]
        }
      ]
    },
    {
      "cell_type": "code",
      "source": [
        "df_requestcounts.to_csv('log_analysis_results.csv', index = False) #saving dataframe to the final CSV"
      ],
      "metadata": {
        "id": "ckegu1lEjALQ"
      },
      "execution_count": null,
      "outputs": []
    },
    {
      "cell_type": "markdown",
      "source": [
        "**Most Frequently Accessed Endpoint**"
      ],
      "metadata": {
        "id": "rJe3miviV8RC"
      }
    },
    {
      "cell_type": "code",
      "source": [
        "df_endpoints = df.groupby('Request').size().reset_index(name = 'Frequency').sort_values(by = 'Frequency', ascending=False)\n",
        "\n",
        "most_accessed = df_endpoints.iloc[0] #first row of the dataframe as it gives the endpoint with max frequency\n",
        "\n",
        "endpoint = most_accessed['Request'].split()[1] #extacting only the endpoint from Request Data. e,g. only /home is fethched from \"GET /home HTTP/1.1\"\n",
        "\n",
        "count = most_accessed['Frequency'] #gets the count of the number of times that endpoint has been accessed\n",
        "\n",
        "print(f\"Most Frequently Accessed Endpoint: \\n{endpoint} (Accessed {count} times)\") #formatted string method to display the ouput as stated/ required\n",
        "\n"
      ],
      "metadata": {
        "colab": {
          "base_uri": "https://localhost:8080/",
          "height": 0
        },
        "id": "HexUvB23VVTP",
        "outputId": "aaf2e7f7-0fa3-46dc-f902-8b8a7b5b8fdd"
      },
      "execution_count": 36,
      "outputs": [
        {
          "output_type": "stream",
          "name": "stdout",
          "text": [
            "Most Frequently Accessed Endpoint: \n",
            "/login (Accessed 13 times)\n"
          ]
        }
      ]
    },
    {
      "cell_type": "code",
      "source": [
        "df_endpoint_counts = df.groupby('Request').size().reset_index(name = 'Access Count').sort_values(by = 'Access Count', ascending=False)\n",
        "\n",
        "df_endpoint_counts['Endpoint'] = df_endpoint_counts['Request'].str.split().str[1] #another method to extract only the end point\n",
        "\n",
        "df_endpoint_counts = df_endpoint_counts[['Endpoint','Access Count']] #reording of the columns\n",
        "\n",
        "print(df_endpoint_counts.to_string(index = False)) #displays the columns elected without index\n",
        "\n",
        "df_endpoint_counts.to_csv('log_analysis_results.csv', mode='a', index = False) #saving to final CSV. Mode='a' appends this ouput to the output of the previous dataframe store to this CSV"
      ],
      "metadata": {
        "colab": {
          "base_uri": "https://localhost:8080/"
        },
        "id": "XdXXvJCbhpbc",
        "outputId": "dc956193-6030-49c0-ad5e-603cdbae51bf"
      },
      "execution_count": null,
      "outputs": [
        {
          "output_type": "stream",
          "name": "stdout",
          "text": [
            "  Endpoint  Access Count\n",
            "    /login            13\n",
            "    /about             5\n",
            "     /home             5\n",
            "/dashboard             3\n",
            "  /contact             2\n",
            "  /profile             2\n",
            " /feedback             2\n",
            " /register             2\n"
          ]
        }
      ]
    },
    {
      "cell_type": "markdown",
      "source": [
        "**Suspicious Activity**"
      ],
      "metadata": {
        "id": "hKeHai4Oa1fi"
      }
    },
    {
      "cell_type": "code",
      "source": [
        "df_failed_login = df[(df['Status Code'] == 401) | (df['Message'] == \"Invalid credentials\")] #fecthcing the rows that satify either of the condition stated for failed login.\n",
        "#'|' represent 'or'\n",
        "\n",
        "#grouping the above fetched rows based on the IP address and sorting them in descending order\n",
        "df_suspicious_activity = df_failed_login.groupby('IP').size().reset_index(name = 'Failed Login Attempts').sort_values(by = 'Failed Login Attempts', ascending=False)\n",
        "\n",
        "print(df_suspicious_activity.to_string(index = False))"
      ],
      "metadata": {
        "colab": {
          "base_uri": "https://localhost:8080/"
        },
        "id": "FnV8tlV6aArf",
        "outputId": "15691fe9-5d0d-46ae-e3c2-a3d79b5fe92b"
      },
      "execution_count": null,
      "outputs": [
        {
          "output_type": "stream",
          "name": "stdout",
          "text": [
            "           IP  Failed Login Attempts\n",
            "  203.0.113.5                      8\n",
            "192.168.1.100                      5\n"
          ]
        }
      ]
    },
    {
      "cell_type": "code",
      "source": [
        "df_flagged_IP = df_suspicious_activity[df_suspicious_activity['Failed Login Attempts'] >= 10] #fagging those IP adresses that has a count of more than or equal to 10 failed login attempts\n",
        "\n",
        "print(f\"Suspicious Activity Detected: \\n{df_flagged_IP.to_string(index = False)}\")"
      ],
      "metadata": {
        "colab": {
          "base_uri": "https://localhost:8080/"
        },
        "id": "k6AOzpj8ksFs",
        "outputId": "daa19190-03fe-43b1-b6c3-dfaf009035a4"
      },
      "execution_count": null,
      "outputs": [
        {
          "output_type": "stream",
          "name": "stdout",
          "text": [
            "Suspicious Activity Detected: \n",
            "Empty DataFrame\n",
            "Columns: [IP, Failed Login Attempts]\n",
            "Index: []\n"
          ]
        }
      ]
    },
    {
      "cell_type": "markdown",
      "source": [
        "The empty string is returned as no IP addresses has a count equal to or greater than 10 failed login attempts"
      ],
      "metadata": {
        "id": "7Txu59mLxZa9"
      }
    },
    {
      "cell_type": "code",
      "source": [
        "df_suspicious_activity.to_csv('log_analysis_results.csv', mode='a', index = False) #appending the output of this to the final CSV"
      ],
      "metadata": {
        "id": "2qvcuBKLf71x"
      },
      "execution_count": null,
      "outputs": []
    }
  ]
}